{
 "cells": [
  {
   "cell_type": "code",
   "execution_count": 1,
   "metadata": {},
   "outputs": [],
   "source": [
    "import pandas as pd"
   ]
  },
  {
   "cell_type": "code",
   "execution_count": 2,
   "metadata": {},
   "outputs": [],
   "source": [
    "def load_dataframes():\n",
    "    \n",
    "    # get path for p022_names.txt\n",
    "    names_path = 'D:\\\\Datafiles\\\\p022_names.txt'\n",
    "\n",
    "    # get twitter dataframe\n",
    "    df_twitter = pd.read_csv('D:\\\\Datafiles\\\\Tweets.csv')\n",
    "    \n",
    "    # get reddit dataframe\n",
    "    df = pd.read_csv('Results folder\\\\results day 1 - 3.csv')\n",
    "    df = pd.concat([df, pd.read_csv('Results folder\\\\results day 4 - 6.csv')])\n",
    "    df = pd.concat([df, pd.read_csv('Results folder\\\\results day 7 - 9.csv')])\n",
    "    df = pd.concat([df, pd.read_csv('Results folder\\\\results day 10.csv')])\n",
    "    \n",
    "    # extract list of names\n",
    "    with open(names_path) as f:\n",
    "        names = f.read()\n",
    "        names = names.replace('\"', '')\n",
    "        names = names.lower()\n",
    "        names = names.split(',')\n",
    "\n",
    "    # return the data\n",
    "    return df_twitter, df, names, make_df()\n",
    "\n",
    "def check(usernames, names, platform, df):\n",
    "    \n",
    "    # loop over usernames\n",
    "    for username in usernames:\n",
    "        \n",
    "        # loop over first names\n",
    "        for name in names:\n",
    "            \n",
    "            # if first name is in username, set anon tag to 1, break form the loop\n",
    "            if name in username.lower() and len(name) > 3:\n",
    "                data = {'platform' : [platform], 'anon' : [1]}\n",
    "                df = pd.concat([df, pd.DataFrame(data)])\n",
    "                break\n",
    "                \n",
    "        # if no first name in username, set anon tag to 0\n",
    "        else:\n",
    "            data={'platform' : [platform], 'anon' : [0]}\n",
    "            df = pd.concat([df, pd.DataFrame(data)])\n",
    "    \n",
    "    return df\n",
    "\n",
    "def make_df():\n",
    "    data = {'platform' : [], 'anon' : []}\n",
    "    return pd.DataFrame(data=data)\n"
   ]
  },
  {
   "cell_type": "code",
   "execution_count": 3,
   "metadata": {},
   "outputs": [],
   "source": [
    "def run():\n",
    "    \n",
    "    # set sample size\n",
    "    sample = 1000\n",
    "    \n",
    "    # load data\n",
    "    df_twitter, df_reddit, names, df = load_dataframes()\n",
    "    \n",
    "    # get user names\n",
    "    twitter_names = df_twitter.name.sample(n=sample, random_state=1)\n",
    "    reddit_names = df_reddit.uploader.sample(n=sample, random_state=1)\n",
    "    \n",
    "    # check anonimity\n",
    "    df = check(list(reddit_names), names, 'reddit', df)\n",
    "    df = check(list(twitter_names), names, 'twitter', df)\n",
    "    \n",
    "    # save to .csv\n",
    "    df.to_csv(r'anonimity.csv', index=False, header=True)\n",
    "    "
   ]
  },
  {
   "cell_type": "code",
   "execution_count": 4,
   "metadata": {},
   "outputs": [
    {
     "name": "stderr",
     "output_type": "stream",
     "text": [
      "C:\\Users\\justin\\AppData\\Local\\Programs\\Python\\Python36\\lib\\site-packages\\IPython\\core\\interactiveshell.py:2963: DtypeWarning: Columns (2,3) have mixed types. Specify dtype option on import or set low_memory=False.\n",
      "  exec(code_obj, self.user_global_ns, self.user_ns)\n"
     ]
    }
   ],
   "source": [
    "df = run()\n"
   ]
  }
 ],
 "metadata": {
  "kernelspec": {
   "display_name": "Python 3.6.4 64-bit",
   "language": "python",
   "name": "python36464bite3e9fea8e7cf4572b612ccf79ec495cf"
  },
  "language_info": {
   "codemirror_mode": {
    "name": "ipython",
    "version": 3
   },
   "file_extension": ".py",
   "mimetype": "text/x-python",
   "name": "python",
   "nbconvert_exporter": "python",
   "pygments_lexer": "ipython3",
   "version": "3.6.4"
  }
 },
 "nbformat": 4,
 "nbformat_minor": 2
}
